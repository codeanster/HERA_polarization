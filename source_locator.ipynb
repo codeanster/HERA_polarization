{
 "cells": [
  {
   "cell_type": "code",
   "execution_count": 1,
   "metadata": {},
   "outputs": [
    {
     "name": "stderr",
     "output_type": "stream",
     "text": [
      "WARNING: AstropyDeprecationWarning: astropy.extern.six will be removed in 4.0, use the six module directly if it is still needed [astropy.extern.six]\n"
     ]
    }
   ],
   "source": [
    "from astroquery.vizier import Vizier\n",
    "import numpy as np\n",
    "import pyds9\n",
    "from glob import glob\n",
    "from astropy.io import fits\n",
    "from pyds9 import *\n",
    "from astropy import wcs\n",
    "import matplotlib.pyplot as plt\n",
    "import matplotlib.cbook as cbook\n",
    "from regions import read_ds9, write_ds9\n",
    "from regions import DS9Parser\n",
    "from regions import ds9_objects_to_string\n",
    "from astropy.coordinates import Angle, SkyCoord\n",
    "from regions import CircleSkyRegion\n",
    "from astroquery.simbad import Simbad\n",
    "import pandas as pd\n",
    "from astropy import units as u\n",
    "from astropy.coordinates import SkyCoord"
   ]
  },
  {
   "cell_type": "code",
   "execution_count": 6,
   "metadata": {},
   "outputs": [],
   "source": []
  },
  {
   "cell_type": "code",
   "execution_count": null,
   "metadata": {},
   "outputs": [],
   "source": []
  },
  {
   "cell_type": "markdown",
   "metadata": {},
   "source": [
    "# This notebook will detect sources from a vizier catalogue  in a give file(s) using ds9.\n",
    "\n",
    "<b> This notebook must be run off the NRAO server <b>"
   ]
  },
  {
   "cell_type": "code",
   "execution_count": 9,
   "metadata": {},
   "outputs": [],
   "source": [
    "def pipeline(files,catalog='VIII/100/gleamegc'):\n",
    "    #Vizier.ROW_LIMIT = -1\n",
    "    #table = Vizier.get_catalogs(catalog='VIII/100/gleamegc')[0]\n",
    "    #Gleam_ra = table['RAJ2000']\n",
    "    #Gleam_dec = table['DEJ2000']\n",
    "    #Gleam_flux = table['Fintwide']\n",
    "    \n",
    "    \n",
    "   #Simbad query each source and make list of ra and dec\n",
    "   #ra = []\n",
    "   #dec = []\n",
    "   #new_sources = []\n",
    "\n",
    "\n",
    "   #for sources in source_list:\n",
    "   #    #print(sources)\n",
    "   #    result_table = Simbad.query_object(sources)\n",
    "   #    if result_table == None:\n",
    "   #        pass\n",
    "   #    else:\n",
    "\n",
    "   #        ra.append(result_table['RA'])\n",
    "   #        dec.append(result_table['DEC'])\n",
    "   #        new_sources.append(sources)\n",
    "   #\n",
    "    \n",
    "    #define a ra/dec mask so only sources in mosaics are chosen\n",
    "    #I should edit this, seems like cuts arent very good...\n",
    "    deccuts , racuts, fluxmin = [-41,-21] , [0,161] , 3 #deg,deg,Jy\n",
    "    #create a mask for ra,dec and flux\n",
    "    w = []\n",
    "    #for i in range(len(Gleam_dec)):\n",
    "    #    w.append((deccuts[0] < Gleam_dec[i] < deccuts[1]) & (racuts[0] < Gleam_ra[i] < racuts[1]) & (Gleam_flux[i] > fluxmin))\n",
    " \n",
    "    # #sources that fit our criteria\n",
    "   # data = table[w]\n",
    "   # Gleam_ra = data['RAJ2000']\n",
    "   # Gleam_dec = data['DEJ2000']\n",
    "   # Gleam_flux = data['Fintwide']\n",
    "   # np.savez('gleam_sources',Gleam_ra,Gleam_dec)\n",
    "    \n",
    "    # #open an instance of ds9\n",
    "    ds9 = pyds9.DS9()\n",
    "    \n",
    "    #lets read in exoplanet catalog?\n",
    "    filename = '/home/gonzalo/Downloads/exoplanets.csv'\n",
    "    data = pd.read_csv(filename,engine='python')\n",
    "    ra = data['ra_str']\n",
    "    dec = data['dec_str']\n",
    "    #for i in range(len(files)):\n",
    "    print(files + ' .... done')\n",
    "    #opens wcs solutions in each header\n",
    "    hdu = fits.open(files,mode='readonly', ignore_missing_end=True)\n",
    "    imwcs = wcs.WCS(hdu[0].header)\n",
    "\n",
    "\n",
    "    #loads each file into ds9 and circles GLEAM SOURCES\n",
    "    ds9.set_pyfits(hdu)\n",
    "    #ds9.set('frame {}'.format(i+1))\n",
    "    ds9.set('file {}'.format(files))\n",
    "    ds9.set('scale zscale')\n",
    "    ds9.set('zoom to fit')\n",
    "\n",
    "    # Applies wcs solutions to translate GLEAM positions to pixel values of fits image\n",
    "    #refx,refy = imwcs.wcs_world2pix(Gleam_ra[:], Gleam_dec[:],0)\n",
    "    #print(ra,dec)\n",
    "    refx = []\n",
    "    refy = []\n",
    "    for i,j in zip(ra,dec):\n",
    "        c = SkyCoord(i,j, frame='icrs')\n",
    "        refx.append(c.ra.value)\n",
    "        refy.append(c.dec.value)\n",
    "    \n",
    "    #for i in range(len(ra)):\n",
    "    x,y = imwcs.wcs_world2pix(refx,refy,0)\n",
    "\n",
    "    \n",
    "    uv_ceti = Simbad.query_object('UV Ceti')\n",
    "    ra,dec = uv_ceti['RA'],uv_ceti['DEC']\n",
    "    c = SkyCoord(ra[0],dec[0], frame='icrs',unit=(u.hourangle, u.deg))\n",
    "    ra = c.ra.value\n",
    "    dec = c.dec.value\n",
    "    \n",
    "    ra,dec = imwcs.wcs_world2pix(ra,dec,0)\n",
    "    for i in range(len(refx)):\n",
    "        ds9.set('regions', 'image; circle {},{} {} #color = green'.format(x[i],y[i], 15))\n",
    "        #print(c.ra.value)\n",
    "        ds9.set('regions', 'image; circle {},{} {} #color = red'.format(ra,dec, 15))\n",
    "\n",
    "\n",
    "\n",
    "        #ds9.set('regions', 'image; circle {},{} {} #color = green'.format(refx[i],refy[i], 15))\n",
    "        #ds9.set('regions', 'image; circle {},{} {} #color = green'.format(refx[i],refy[i], 15))\n",
    "        #ds9.set('regions', 'image; circle {},{} {} #color = green'.format(refx[i],refy[i], 15))\n",
    "        #ds9.set('regions', 'image; circle {},{} {} #color = green'.format(refx[i],refy[i], 15))\n",
    "        #ds9.set('regions', 'image; circle {},{} {} #color = green'.format(refx[i],refy[i], 15))\n",
    "        #ds9.set('regions', 'image; circle {},{} {} #color = green'.format(refx[i],refy[i], 15))\n",
    "\n",
    "\n",
    "    \n",
    "    #for i in range(len(Gleam_dec)):\n",
    "    #    ds9.set('regions', 'image; circle {},{} {} #color = green'.format(refx[i],refy[i], 15))\n",
    "\n",
    "    return print('Success! Matched a total of {} sources!'.format(len(refx))) \n",
    "\n",
    "    "
   ]
  },
  {
   "cell_type": "code",
   "execution_count": 10,
   "metadata": {
    "scrolled": true
   },
   "outputs": [
    {
     "name": "stdout",
     "output_type": "stream",
     "text": [
      "/home/gonzalo/Desktop/polarizedmastermaps/mastermapbeamcorVnewd.fits .... done\n",
      "Success! Matched a total of 4093 sources!\n",
      "CPU times: user 7.79 s, sys: 22.2 s, total: 29.9 s\n",
      "Wall time: 1min 8s\n"
     ]
    }
   ],
   "source": [
    "%%time\n",
    "#here I specify the mosaiced fits files i want to use for the \"pipeline\"\n",
    "#files = sorted(glob('masterpmaps/*.fits'))ra\n",
    "files = '/home/gonzalo/Desktop/polarizedmastermaps/mastermapbeamcorVnewd.fits'\n",
    "pipeline(files)"
   ]
  },
  {
   "cell_type": "code",
   "execution_count": null,
   "metadata": {},
   "outputs": [],
   "source": []
  },
  {
   "cell_type": "code",
   "execution_count": null,
   "metadata": {},
   "outputs": [],
   "source": []
  }
 ],
 "metadata": {
  "kernelspec": {
   "display_name": "Python 3",
   "language": "python",
   "name": "python3"
  },
  "language_info": {
   "codemirror_mode": {
    "name": "ipython",
    "version": 3
   },
   "file_extension": ".py",
   "mimetype": "text/x-python",
   "name": "python",
   "nbconvert_exporter": "python",
   "pygments_lexer": "ipython3",
   "version": "3.7.3"
  }
 },
 "nbformat": 4,
 "nbformat_minor": 2
}
